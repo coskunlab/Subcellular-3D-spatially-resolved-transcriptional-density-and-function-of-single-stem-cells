{
 "cells": [
  {
   "cell_type": "code",
   "execution_count": 150,
   "metadata": {},
   "outputs": [],
   "source": [
    "import tifffile\n",
    "import numpy as np\n",
    "import os\n",
    "from sklearn.cluster import KMeans\n",
    "import matplotlib.pyplot as plt\n",
    "import seaborn as sns"
   ]
  },
  {
   "cell_type": "code",
   "execution_count": 151,
   "metadata": {},
   "outputs": [],
   "source": [
    "from matplotlib import rcParams\n",
    "rcParams.update({'figure.autolayout': True})"
   ]
  },
  {
   "cell_type": "code",
   "execution_count": 152,
   "metadata": {},
   "outputs": [],
   "source": [
    "in_dir = r'.\\\\hch_pellet_016\\\\markers'\n",
    "mask = tifffile.imread(r'.\\\\hch_pellet_016\\\\Mask.tif').astype('float')\n",
    "out_dir = r'.\\\\hch_pellet_016'\n",
    "gene_names = ['ccl11', 'col5a2', 'sox9', 'actb', 'eef2', 'spp1', 'runx1', 'pdl1', 'col1a1', 'il8', 'il6']"
   ]
  },
  {
   "cell_type": "code",
   "execution_count": 154,
   "metadata": {},
   "outputs": [
    {
     "name": "stdout",
     "output_type": "stream",
     "text": [
      "10_ccl11_C4-hch_il8_il6_ccl11_016-2.tif\n",
      "11_col5a2_C3-hch_col5a2_016-1.tif\n",
      "1_sox9_C3-hch_sox9_actb_016-2.tif\n",
      "2_actb_C4-hch_sox9_actb_016-2.tif\n",
      "3_eef2_C3-hch_eef2_spp1_016-2.tif\n",
      "4_spp1_C4-hch_eef2_spp1_016-2.tif\n",
      "5_runx1_C3-hch_runx1_pdl1_016-2_masked.tif\n",
      "6_pdl1_C4-hch_runx1_pdl1_016-2.tif\n",
      "7_col1a1_C3-hch_col1a1_016-2.tif\n",
      "8_il8_C2-hch_il8_il6_ccl11_016-2.tif\n",
      "9_il6_C3-hch_il8_il6_ccl11_016-2.tif\n"
     ]
    }
   ],
   "source": [
    "fnl = os.listdir(in_dir)\n",
    "fnl.sort()\n",
    "im_l = []\n",
    "for i in range(1,12):\n",
    "    print(fnl[i])\n",
    "    im_l.append(tifffile.imread(os.path.join(in_dir, fnl[i])))\n",
    "mask = mask + 100\n",
    "mask = (mask>0).astype('float')"
   ]
  },
  {
   "cell_type": "code",
   "execution_count": 155,
   "metadata": {},
   "outputs": [],
   "source": [
    "# Extract points from mask\n",
    "imgs = np.stack(im_l)\n",
    "stacked_list = []\n",
    "k = 0\n",
    "for i in range(imgs.shape[2]):\n",
    "    for j in range(imgs.shape[3]):\n",
    "        if mask[i,j] == 1:\n",
    "            stacked_list.append(imgs[:,:,i,j])\n",
    "stacked = np.concatenate(stacked_list, axis=1).T.astype('float')"
   ]
  },
  {
   "cell_type": "code",
   "execution_count": 156,
   "metadata": {},
   "outputs": [],
   "source": [
    "mean = np.mean(stacked, axis=0)\n",
    "std = np.std(stacked, axis=0)\n",
    "stacked_norm = (stacked - mean) / (std+0.0001)\n",
    "# print(np.min(std))"
   ]
  },
  {
   "cell_type": "markdown",
   "metadata": {},
   "source": [
    "Determine number of clusters"
   ]
  },
  {
   "cell_type": "code",
   "execution_count": 135,
   "metadata": {},
   "outputs": [],
   "source": [
    "sww = []\n",
    "for i in range(4, 15):\n",
    "    kmeans = KMeans(n_clusters = i).fit(stacked_norm)\n",
    "    centers = kmeans.cluster_centers_\n",
    "    prediction = kmeans.predict(stacked_norm)\n",
    "    swwi = 0\n",
    "    for j in range(i):\n",
    "        temp_mask = (prediction == j).astype('int')\n",
    "        diff = stacked_norm - centers[j,:]\n",
    "        diff = diff * diff\n",
    "        diff = np.sum(diff, axis=1)\n",
    "        swwi = swwi + np.sum(diff * temp_mask)\n",
    "    sww.append(swwi)"
   ]
  },
  {
   "cell_type": "code",
   "execution_count": 149,
   "metadata": {},
   "outputs": [
    {
     "data": {
      "image/png": "[encoded data removed]",
      "text/plain": [
       "<Figure size 432x288 with 1 Axes>"
      ]
     },
     "metadata": {
      "needs_background": "light"
     },
     "output_type": "display_data"
    }
   ],
   "source": [
    "x = np.arange(4,15)\n",
    "plt.plot(x, sww)\n",
    "plt.savefig(os.path.join(out_dir, r'gene_cluster_kvalue.png'))"
   ]
  },
  {
   "cell_type": "code",
   "execution_count": 148,
   "metadata": {},
   "outputs": [
    {
     "data": {
      "text/plain": [
       "<Figure size 432x288 with 0 Axes>"
      ]
     },
     "metadata": {},
     "output_type": "display_data"
    }
   ],
   "source": [
    "plt.savefig(os.path.join(out_dir, r'gene_cluster_kvalue.png'))"
   ]
  },
  {
   "cell_type": "code",
   "execution_count": 157,
   "metadata": {},
   "outputs": [],
   "source": [
    "N_CLUSTERS = 12"
   ]
  },
  {
   "cell_type": "code",
   "execution_count": 158,
   "metadata": {},
   "outputs": [],
   "source": [
    "kmeans = KMeans(n_clusters = N_CLUSTERS).fit(stacked_norm)"
   ]
  },
  {
   "cell_type": "code",
   "execution_count": 159,
   "metadata": {},
   "outputs": [
    {
     "name": "stdout",
     "output_type": "stream",
     "text": [
      "(11, 35, 390, 390)\n"
     ]
    }
   ],
   "source": [
    "# Normalize per slice\n",
    "imgs_norm = np.zeros(imgs.shape)\n",
    "for i in range(imgs.shape[1]):\n",
    "    temp = imgs[:,i,:,:].reshape((imgs.shape[0], imgs.shape[2]*imgs.shape[3]))\n",
    "    imgs_norm[:,i,:,:] = (temp.T - mean / (std+0.0001)).T.reshape((imgs.shape[0], imgs.shape[2], imgs.shape[3]))\n",
    "print(imgs_norm.shape)"
   ]
  },
  {
   "cell_type": "code",
   "execution_count": 160,
   "metadata": {},
   "outputs": [
    {
     "name": "stdout",
     "output_type": "stream",
     "text": [
      "(5323500, 11)\n"
     ]
    }
   ],
   "source": [
    "predictions = kmeans.predict(stacked_norm)\n",
    "print(stacked_norm.shape)"
   ]
  },
  {
   "cell_type": "code",
   "execution_count": 161,
   "metadata": {},
   "outputs": [],
   "source": [
    "# Cluster ranking\n",
    "gene_cluster_stack = np.zeros((stacked_norm.shape[0],N_CLUSTERS))\n",
    "for i in range(N_CLUSTERS):\n",
    "    gene_cluster_stack[:,i] = (predictions == i).astype('int')\n",
    "n_pixels = np.sum(gene_cluster_stack, axis=0)\n",
    "orders = np.argsort(n_pixels)"
   ]
  },
  {
   "cell_type": "code",
   "execution_count": 162,
   "metadata": {},
   "outputs": [
    {
     "data": {
      "image/png": "[encoded data removed]",
      "text/plain": [
       "<Figure size 432x288 with 2 Axes>"
      ]
     },
     "metadata": {
      "needs_background": "light"
     },
     "output_type": "display_data"
    }
   ],
   "source": [
    "centers = kmeans.cluster_centers_\n",
    "sorted_centers = centers[orders]\n",
    "log_centers = np.log(centers+1)\n",
    "sns_plot = sns.heatmap(log_centers, xticklabels=gene_names)"
   ]
  },
  {
   "cell_type": "code",
   "execution_count": 163,
   "metadata": {},
   "outputs": [],
   "source": [
    "fig = sns_plot.get_figure()\n",
    "fig.savefig(os.path.join(out_dir,r'gene_clusters_heatmap.png'))"
   ]
  },
  {
   "cell_type": "code",
   "execution_count": 164,
   "metadata": {},
   "outputs": [],
   "source": [
    "# Generate per slice clustering\n",
    "predictions = np.zeros((imgs.shape[1], imgs.shape[2], imgs.shape[3]))\n",
    "for i in range(imgs.shape[1]):\n",
    "    temp = imgs_norm[:,i,:,:].reshape((imgs_norm.shape[0], imgs.shape[2]*imgs.shape[3]))\n",
    "    predictions[i,:,:] = kmeans.predict(temp.T).T.reshape((imgs.shape[2], imgs.shape[3]))"
   ]
  },
  {
   "cell_type": "code",
   "execution_count": 165,
   "metadata": {},
   "outputs": [],
   "source": [
    "for i in range(N_CLUSTERS):\n",
    "    cluster_i = ((predictions == i)*255).astype('uint8')\n",
    "    for j in range(cluster_i.shape[0]):\n",
    "        cluster_i[j,:,:] = cluster_i[j,:,:] * mask\n",
    "    # save_dir = r'Y:\\\\coskun-lab\\\\Zhou\\\\4_HCR\\\\20210525_hchPellet\\\\0_clustering_data\\\\016\\\\clustering_result\\\\v4'\n",
    "    save_name = 'cluster_' + str(i) + '.tif'\n",
    "    tifffile.imsave(os.path.join(out_dir, save_name), cluster_i.astype('uint8'))"
   ]
  },
  {
   "cell_type": "code",
   "execution_count": null,
   "metadata": {},
   "outputs": [],
   "source": []
  }
 ],
 "metadata": {
  "kernelspec": {
   "display_name": "Python 3",
   "language": "python",
   "name": "python3"
  },
  "language_info": {
   "codemirror_mode": {
    "name": "ipython",
    "version": 3
   },
   "file_extension": ".py",
   "mimetype": "text/x-python",
   "name": "python",
   "nbconvert_exporter": "python",
   "pygments_lexer": "ipython3",
   "version": "3.8.3"
  }
 },
 "nbformat": 4,
 "nbformat_minor": 4
}
